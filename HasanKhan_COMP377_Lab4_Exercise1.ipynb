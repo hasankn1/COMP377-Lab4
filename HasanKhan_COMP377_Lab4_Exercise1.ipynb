{
 "cells": [
  {
   "cell_type": "code",
   "execution_count": 1,
   "id": "5fdcae6a",
   "metadata": {},
   "outputs": [
    {
     "name": "stdout",
     "output_type": "stream",
     "text": [
      "Epoch 1/5\n",
      "2/2 [==============================] - 0s 10ms/step - loss: 2.3136 - accuracy: 0.1000\n",
      "Epoch 2/5\n",
      "2/2 [==============================] - 0s 9ms/step - loss: 2.2269 - accuracy: 0.2833\n",
      "Epoch 3/5\n",
      "2/2 [==============================] - 0s 9ms/step - loss: 2.1509 - accuracy: 0.3500\n",
      "Epoch 4/5\n",
      "2/2 [==============================] - 0s 8ms/step - loss: 2.0667 - accuracy: 0.3667\n",
      "Epoch 5/5\n",
      "2/2 [==============================] - 0s 8ms/step - loss: 1.9745 - accuracy: 0.3833\n",
      "1/1 [==============================] - 0s 80ms/step - loss: 2.0436 - accuracy: 0.3000\n",
      "Test accuracy: 0.30000001192092896\n"
     ]
    }
   ],
   "source": [
    "import tensorflow as tf\n",
    "from tensorflow.keras.datasets import mnist\n",
    "\n",
    "# Load MNIST dataset\n",
    "(x_train, y_train), (x_test, y_test) = mnist.load_data()\n",
    "\n",
    "# Normalize the pixel values from [0, 255] to [0, 1]\n",
    "x_train = x_train.astype('float32') / 255.0\n",
    "x_test = x_test.astype('float32') / 255.0\n",
    "\n",
    "\n",
    "model = tf.keras.Sequential([\n",
    "    # Convolutional layer with 32 filters, 3x3 kernel size, ReLU activation, and 'same' padding\n",
    "    tf.keras.layers.Conv2D(32, (3,3), activation='relu', padding='same', input_shape=(28,28,1)),\n",
    "    # Max pooling layer with 2x2 pool size\n",
    "    tf.keras.layers.MaxPooling2D((2,2)),\n",
    "    # Convolutional layer with 64 filters, 3x3 kernel size, ReLU activation, and 'same' padding\n",
    "    tf.keras.layers.Conv2D(64, (3,3), activation='relu', padding='same'),\n",
    "    # Max pooling layer with 2x2 pool size\n",
    "    tf.keras.layers.MaxPooling2D((2,2)),\n",
    "    # Flatten layer to convert 2D feature maps to 1D feature vectors\n",
    "    tf.keras.layers.Flatten(),\n",
    "    # Output layer with 10 neurons (one for each digit) and softmax activation\n",
    "    tf.keras.layers.Dense(10, activation='softmax')\n",
    "])\n",
    "\n",
    "# Compile the model with SparseCategoricalCrossentropy loss and Adam optimizer\n",
    "model.compile(optimizer='adam', loss='sparse_categorical_crossentropy', metrics=['accuracy'])\n",
    "\n",
    "\n",
    "# Train the model on the top 60 rows of the training data\n",
    "model.fit(x_train[:60], y_train[:60], epochs=5)\n",
    "\n",
    "# Evaluate the model on the top 10 rows of the test data\n",
    "loss, acc = model.evaluate(x_test[:10], y_test[:10])\n",
    "\n",
    "print('Test accuracy:', acc)\n"
   ]
  },
  {
   "cell_type": "code",
   "execution_count": null,
   "id": "dde9201c",
   "metadata": {},
   "outputs": [],
   "source": []
  }
 ],
 "metadata": {
  "kernelspec": {
   "display_name": "Python 3 (ipykernel)",
   "language": "python",
   "name": "python3"
  },
  "language_info": {
   "codemirror_mode": {
    "name": "ipython",
    "version": 3
   },
   "file_extension": ".py",
   "mimetype": "text/x-python",
   "name": "python",
   "nbconvert_exporter": "python",
   "pygments_lexer": "ipython3",
   "version": "3.10.9"
  }
 },
 "nbformat": 4,
 "nbformat_minor": 5
}
